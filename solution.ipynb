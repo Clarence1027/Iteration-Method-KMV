{
 "cells": [
  {
   "cell_type": "markdown",
   "metadata": {},
   "source": [
    "# Merton asset/vol Estimation\n",
    "\n",
    "Hongfei Ge"
   ]
  },
  {
   "cell_type": "code",
   "execution_count": 539,
   "metadata": {},
   "outputs": [],
   "source": [
    "# import modules\n",
    "import pandas as pd\n",
    "import numpy as np\n",
    "import math\n",
    "import statsmodels.api as sm\n",
    "from scipy.stats import norm"
   ]
  },
  {
   "cell_type": "markdown",
   "metadata": {},
   "source": [
    "## 1. Iteration looping"
   ]
  },
  {
   "cell_type": "markdown",
   "metadata": {},
   "source": [
    "### 1.1 data preparation"
   ]
  },
  {
   "cell_type": "code",
   "execution_count": 482,
   "metadata": {},
   "outputs": [
    {
     "data": {
      "text/html": [
       "<div>\n",
       "<style scoped>\n",
       "    .dataframe tbody tr th:only-of-type {\n",
       "        vertical-align: middle;\n",
       "    }\n",
       "\n",
       "    .dataframe tbody tr th {\n",
       "        vertical-align: top;\n",
       "    }\n",
       "\n",
       "    .dataframe thead th {\n",
       "        text-align: right;\n",
       "    }\n",
       "</style>\n",
       "<table border=\"1\" class=\"dataframe\">\n",
       "  <thead>\n",
       "    <tr style=\"text-align: right;\">\n",
       "      <th></th>\n",
       "      <th>mktcap</th>\n",
       "      <th>debt</th>\n",
       "      <th>rf</th>\n",
       "      <th>sp_idx</th>\n",
       "    </tr>\n",
       "    <tr>\n",
       "      <th>date</th>\n",
       "      <th></th>\n",
       "      <th></th>\n",
       "      <th></th>\n",
       "      <th></th>\n",
       "    </tr>\n",
       "  </thead>\n",
       "  <tbody>\n",
       "    <tr>\n",
       "      <th>2000-08-31</th>\n",
       "      <td>62715.57</td>\n",
       "      <td>34797</td>\n",
       "      <td>0.059966</td>\n",
       "      <td>102.973351</td>\n",
       "    </tr>\n",
       "    <tr>\n",
       "      <th>2000-09-01</th>\n",
       "      <td>63038.83</td>\n",
       "      <td>34797</td>\n",
       "      <td>0.060436</td>\n",
       "      <td>103.079002</td>\n",
       "    </tr>\n",
       "    <tr>\n",
       "      <th>2000-09-05</th>\n",
       "      <td>63546.82</td>\n",
       "      <td>34797</td>\n",
       "      <td>0.059966</td>\n",
       "      <td>102.255135</td>\n",
       "    </tr>\n",
       "    <tr>\n",
       "      <th>2000-09-06</th>\n",
       "      <td>62346.11</td>\n",
       "      <td>34797</td>\n",
       "      <td>0.060060</td>\n",
       "      <td>101.093460</td>\n",
       "    </tr>\n",
       "    <tr>\n",
       "      <th>2000-09-07</th>\n",
       "      <td>61330.10</td>\n",
       "      <td>34797</td>\n",
       "      <td>0.060342</td>\n",
       "      <td>101.959526</td>\n",
       "    </tr>\n",
       "  </tbody>\n",
       "</table>\n",
       "</div>"
      ],
      "text/plain": [
       "              mktcap   debt        rf      sp_idx\n",
       "date                                             \n",
       "2000-08-31  62715.57  34797  0.059966  102.973351\n",
       "2000-09-01  63038.83  34797  0.060436  103.079002\n",
       "2000-09-05  63546.82  34797  0.059966  102.255135\n",
       "2000-09-06  62346.11  34797  0.060060  101.093460\n",
       "2000-09-07  61330.10  34797  0.060342  101.959526"
      ]
     },
     "execution_count": 482,
     "metadata": {},
     "output_type": "execute_result"
    }
   ],
   "source": [
    "# load data\n",
    "data = pd.read_excel('./Merton asset estimation exercise.xlsx')\n",
    "sp500 = pd.read_csv('./SPY.csv')[['Date','Adj Close']]\n",
    "sp500['Date'] = sp500['Date'].apply(lambda x: pd.Timestamp(x))\n",
    "data = pd.merge(data,sp500[['Date','Adj Close']],left_on='date',right_on='Date',how='left')\n",
    "data = data.drop('Date',axis=1).dropna()\n",
    "data = data.set_index('date')\n",
    "data.columns = ['mktcap', 'debt', 'rf', 'sp_idx']\n",
    "data.head()"
   ]
  },
  {
   "cell_type": "markdown",
   "metadata": {},
   "source": [
    "### 1.2 Estimate Merton daily asset value\n",
    "\n",
    "Assumptions:\n",
    "- all are in one year horizon or annual rate\n",
    "\n",
    "1)Using the past six months history of daily equity, debt, and riskfree rate, estimate daily series of Merton asset values from Mar 1, 2001 to the end date of the dataset. Note assume all are one year horizon or annual rate.\n",
    "\n",
    "2)Estimate asset vol from Mar 1, 2001 to the end date of the dataset "
   ]
  },
  {
   "cell_type": "code",
   "execution_count": 508,
   "metadata": {},
   "outputs": [
    {
     "data": {
      "text/html": [
       "<div>\n",
       "<style scoped>\n",
       "    .dataframe tbody tr th:only-of-type {\n",
       "        vertical-align: middle;\n",
       "    }\n",
       "\n",
       "    .dataframe tbody tr th {\n",
       "        vertical-align: top;\n",
       "    }\n",
       "\n",
       "    .dataframe thead th {\n",
       "        text-align: right;\n",
       "    }\n",
       "</style>\n",
       "<table border=\"1\" class=\"dataframe\">\n",
       "  <thead>\n",
       "    <tr style=\"text-align: right;\">\n",
       "      <th></th>\n",
       "      <th>mktcap</th>\n",
       "      <th>debt</th>\n",
       "      <th>rf</th>\n",
       "      <th>sp_idx</th>\n",
       "      <th>Asset_k</th>\n",
       "      <th>Asset_k1</th>\n",
       "      <th>Asset_bs</th>\n",
       "      <th>vol</th>\n",
       "      <th>drift_capm</th>\n",
       "      <th>drift_mean</th>\n",
       "    </tr>\n",
       "    <tr>\n",
       "      <th>date</th>\n",
       "      <th></th>\n",
       "      <th></th>\n",
       "      <th></th>\n",
       "      <th></th>\n",
       "      <th></th>\n",
       "      <th></th>\n",
       "      <th></th>\n",
       "      <th></th>\n",
       "      <th></th>\n",
       "      <th></th>\n",
       "    </tr>\n",
       "  </thead>\n",
       "  <tbody>\n",
       "    <tr>\n",
       "      <th>2000-08-31</th>\n",
       "      <td>62715.57</td>\n",
       "      <td>34797</td>\n",
       "      <td>0.059966</td>\n",
       "      <td>102.973351</td>\n",
       "      <td>97512.57</td>\n",
       "      <td>97512.754487</td>\n",
       "      <td>NaN</td>\n",
       "      <td>NaN</td>\n",
       "      <td>NaN</td>\n",
       "      <td>NaN</td>\n",
       "    </tr>\n",
       "    <tr>\n",
       "      <th>2000-09-01</th>\n",
       "      <td>63038.83</td>\n",
       "      <td>34797</td>\n",
       "      <td>0.060436</td>\n",
       "      <td>103.079002</td>\n",
       "      <td>97835.83</td>\n",
       "      <td>97836.467628</td>\n",
       "      <td>NaN</td>\n",
       "      <td>NaN</td>\n",
       "      <td>NaN</td>\n",
       "      <td>NaN</td>\n",
       "    </tr>\n",
       "    <tr>\n",
       "      <th>2000-09-05</th>\n",
       "      <td>63546.82</td>\n",
       "      <td>34797</td>\n",
       "      <td>0.059966</td>\n",
       "      <td>102.255135</td>\n",
       "      <td>98343.82</td>\n",
       "      <td>98343.968670</td>\n",
       "      <td>NaN</td>\n",
       "      <td>NaN</td>\n",
       "      <td>NaN</td>\n",
       "      <td>NaN</td>\n",
       "    </tr>\n",
       "    <tr>\n",
       "      <th>2000-09-06</th>\n",
       "      <td>62346.11</td>\n",
       "      <td>34797</td>\n",
       "      <td>0.060060</td>\n",
       "      <td>101.093460</td>\n",
       "      <td>97143.11</td>\n",
       "      <td>97143.892655</td>\n",
       "      <td>NaN</td>\n",
       "      <td>NaN</td>\n",
       "      <td>NaN</td>\n",
       "      <td>NaN</td>\n",
       "    </tr>\n",
       "    <tr>\n",
       "      <th>2000-09-07</th>\n",
       "      <td>61330.10</td>\n",
       "      <td>34797</td>\n",
       "      <td>0.060342</td>\n",
       "      <td>101.959526</td>\n",
       "      <td>96127.10</td>\n",
       "      <td>96127.372403</td>\n",
       "      <td>NaN</td>\n",
       "      <td>NaN</td>\n",
       "      <td>NaN</td>\n",
       "      <td>NaN</td>\n",
       "    </tr>\n",
       "  </tbody>\n",
       "</table>\n",
       "</div>"
      ],
      "text/plain": [
       "              mktcap   debt        rf      sp_idx   Asset_k      Asset_k1  \\\n",
       "date                                                                        \n",
       "2000-08-31  62715.57  34797  0.059966  102.973351  97512.57  97512.754487   \n",
       "2000-09-01  63038.83  34797  0.060436  103.079002  97835.83  97836.467628   \n",
       "2000-09-05  63546.82  34797  0.059966  102.255135  98343.82  98343.968670   \n",
       "2000-09-06  62346.11  34797  0.060060  101.093460  97143.11  97143.892655   \n",
       "2000-09-07  61330.10  34797  0.060342  101.959526  96127.10  96127.372403   \n",
       "\n",
       "            Asset_bs  vol  drift_capm  drift_mean  \n",
       "date                                               \n",
       "2000-08-31       NaN  NaN         NaN         NaN  \n",
       "2000-09-01       NaN  NaN         NaN         NaN  \n",
       "2000-09-05       NaN  NaN         NaN         NaN  \n",
       "2000-09-06       NaN  NaN         NaN         NaN  \n",
       "2000-09-07       NaN  NaN         NaN         NaN  "
      ]
     },
     "execution_count": 508,
     "metadata": {},
     "output_type": "execute_result"
    }
   ],
   "source": [
    "# estimate the initizlised asset value\n",
    "data['Asset_k'] = data['mktcap'] + data['debt']\n",
    "data['Asset_k1'] = data['mktcap'] + data['debt'] +np.random.rand(len(data))\n",
    "data.head()"
   ]
  },
  {
   "cell_type": "code",
   "execution_count": 509,
   "metadata": {},
   "outputs": [
    {
     "data": {
      "text/plain": [
       "<AxesSubplot:xlabel='date'>"
      ]
     },
     "execution_count": 509,
     "metadata": {},
     "output_type": "execute_result"
    },
    {
     "data": {
      "image/png": "[encoded data removed]",
      "text/plain": [
       "<Figure size 432x288 with 1 Axes>"
      ]
     },
     "metadata": {
      "needs_background": "light"
     },
     "output_type": "display_data"
    }
   ],
   "source": [
    "data.loc[pd.Timestamp('2001-05-01'):][['mktcap','debt','Asset_k']].plot()"
   ]
  },
  {
   "cell_type": "code",
   "execution_count": 510,
   "metadata": {},
   "outputs": [],
   "source": [
    "# define reranged BS model to give Asset value\n",
    "normal = lambda x: 0.5 * (1 + math.erf(x / math.sqrt(2)))\n",
    "def Reranged_BS(S, K, sig, t, r, d, eq):\n",
    "    d1 = (math.log(S / K) + (r - d + sig**2 / 2) * t) / (sig * math.sqrt(t))\n",
    "    d2 = d1 - sig * math.sqrt(t)\n",
    "    # call_price = S * math.exp(-d * t) * normasset_iterative_solveral(d1) - \\\n",
    "    #    K * math.exp(-r * t) * normal(d2)\n",
    "    # put_price = K*math.exp(-r*t) * normal(-d2) - S*math.exp(-d*t)*normal(-d1)\n",
    "    E = eq\n",
    "    Reranged_BS.A = (E + K * np.exp(-r * t) * normal(d2)) / normal(d1)\n",
    "    Reranged_BS.d2 = d2\n",
    "    Reranged_BS.vol = sig\n",
    "    return Reranged_BS"
   ]
  },
  {
   "cell_type": "code",
   "execution_count": 511,
   "metadata": {},
   "outputs": [],
   "source": [
    "# iteration method\n",
    "def asset_iterative_solver(window):\n",
    "    data_ = data.loc[window.index]\n",
    "    it_count = 0\n",
    "    while np.std(data_['Asset_k']-data_['Asset_k1'])>1e-10:\n",
    "        data_['Asset_k'] = data_['Asset_k1'] \n",
    "        vol = (np.log(data_['Asset_k']/data_['Asset_k'].shift())).std()*np.sqrt(250)\n",
    "        # print(vol)\n",
    "        def f(x):\n",
    "            S, K, sig, t, r, d, eq = x[4], x[1], vol, 1, np.log(1+x[2]), 0, x[0]\n",
    "            res = Reranged_BS(S, K, sig, t, r, d, eq)\n",
    "            return res.A\n",
    "        data_['Asset_k1'] = data_.apply(f,axis=1)\n",
    "        it_count += 1\n",
    "        if it_count > 1000:\n",
    "            print('max iteration reached!')\n",
    "            break\n",
    "    A = data_['Asset_k'][-1]\n",
    "    return A\n",
    "\n",
    "def vol_iterative_solver(window):\n",
    "    data_ = data.loc[window.index]\n",
    "    it_count = 0\n",
    "    while np.std(data_['Asset_k']-data_['Asset_k1'])>1e-10:\n",
    "        data_['Asset_k'] = data_['Asset_k1'] \n",
    "        vol = (np.log(data_['Asset_k']/data_['Asset_k'].shift())).std()*np.sqrt(250)\n",
    "        # print(vol)\n",
    "        def f(x):\n",
    "            S, K, sig, t, r, d, eq = x[4], x[1], vol, 1, x[2], 0, x[0]\n",
    "            res = Reranged_BS(S, K, sig, t, r, d, eq)\n",
    "            return res.A\n",
    "        data_['Asset_k1'] = data_.apply(f,axis=1)\n",
    "        it_count += 1\n",
    "        if it_count > 1000:\n",
    "            print('max iteration reached!')\n",
    "            break\n",
    "    A = data_['Asset_k'][-1]\n",
    "    return vol"
   ]
  },
  {
   "cell_type": "code",
   "execution_count": 512,
   "metadata": {},
   "outputs": [
    {
     "data": {
      "text/html": [
       "<div>\n",
       "<style scoped>\n",
       "    .dataframe tbody tr th:only-of-type {\n",
       "        vertical-align: middle;\n",
       "    }\n",
       "\n",
       "    .dataframe tbody tr th {\n",
       "        vertical-align: top;\n",
       "    }\n",
       "\n",
       "    .dataframe thead th {\n",
       "        text-align: right;\n",
       "    }\n",
       "</style>\n",
       "<table border=\"1\" class=\"dataframe\">\n",
       "  <thead>\n",
       "    <tr style=\"text-align: right;\">\n",
       "      <th></th>\n",
       "      <th>mktcap</th>\n",
       "      <th>debt</th>\n",
       "      <th>rf</th>\n",
       "      <th>sp_idx</th>\n",
       "      <th>Asset_k</th>\n",
       "      <th>Asset_k1</th>\n",
       "      <th>Asset_bs</th>\n",
       "      <th>vol</th>\n",
       "      <th>drift_capm</th>\n",
       "      <th>drift_mean</th>\n",
       "    </tr>\n",
       "    <tr>\n",
       "      <th>date</th>\n",
       "      <th></th>\n",
       "      <th></th>\n",
       "      <th></th>\n",
       "      <th></th>\n",
       "      <th></th>\n",
       "      <th></th>\n",
       "      <th></th>\n",
       "      <th></th>\n",
       "      <th></th>\n",
       "      <th></th>\n",
       "    </tr>\n",
       "  </thead>\n",
       "  <tbody>\n",
       "    <tr>\n",
       "      <th>2001-05-01</th>\n",
       "      <td>47080.00</td>\n",
       "      <td>54033</td>\n",
       "      <td>0.038355</td>\n",
       "      <td>86.588928</td>\n",
       "      <td>101113.00</td>\n",
       "      <td>101113.033523</td>\n",
       "      <td>98699.677485</td>\n",
       "      <td>0.365645</td>\n",
       "      <td>0.047222</td>\n",
       "      <td>0.047222</td>\n",
       "    </tr>\n",
       "    <tr>\n",
       "      <th>2001-05-02</th>\n",
       "      <td>45639.19</td>\n",
       "      <td>54033</td>\n",
       "      <td>0.038740</td>\n",
       "      <td>86.432205</td>\n",
       "      <td>99672.19</td>\n",
       "      <td>99672.346487</td>\n",
       "      <td>97195.968507</td>\n",
       "      <td>0.366092</td>\n",
       "      <td>0.047589</td>\n",
       "      <td>0.047589</td>\n",
       "    </tr>\n",
       "    <tr>\n",
       "      <th>2001-05-03</th>\n",
       "      <td>44017.29</td>\n",
       "      <td>54033</td>\n",
       "      <td>0.038162</td>\n",
       "      <td>85.334885</td>\n",
       "      <td>98050.29</td>\n",
       "      <td>98051.140133</td>\n",
       "      <td>95538.661404</td>\n",
       "      <td>0.367665</td>\n",
       "      <td>0.047039</td>\n",
       "      <td>0.047039</td>\n",
       "    </tr>\n",
       "    <tr>\n",
       "      <th>2001-05-04</th>\n",
       "      <td>44869.71</td>\n",
       "      <td>54033</td>\n",
       "      <td>0.038259</td>\n",
       "      <td>86.786575</td>\n",
       "      <td>98902.71</td>\n",
       "      <td>98902.743665</td>\n",
       "      <td>96411.232090</td>\n",
       "      <td>0.368180</td>\n",
       "      <td>0.047130</td>\n",
       "      <td>0.047130</td>\n",
       "    </tr>\n",
       "    <tr>\n",
       "      <th>2001-05-07</th>\n",
       "      <td>43783.41</td>\n",
       "      <td>54033</td>\n",
       "      <td>0.036621</td>\n",
       "      <td>86.036896</td>\n",
       "      <td>97816.41</td>\n",
       "      <td>97816.575003</td>\n",
       "      <td>95362.761683</td>\n",
       "      <td>0.368769</td>\n",
       "      <td>0.045567</td>\n",
       "      <td>0.045567</td>\n",
       "    </tr>\n",
       "  </tbody>\n",
       "</table>\n",
       "</div>"
      ],
      "text/plain": [
       "              mktcap   debt        rf     sp_idx    Asset_k       Asset_k1  \\\n",
       "date                                                                         \n",
       "2001-05-01  47080.00  54033  0.038355  86.588928  101113.00  101113.033523   \n",
       "2001-05-02  45639.19  54033  0.038740  86.432205   99672.19   99672.346487   \n",
       "2001-05-03  44017.29  54033  0.038162  85.334885   98050.29   98051.140133   \n",
       "2001-05-04  44869.71  54033  0.038259  86.786575   98902.71   98902.743665   \n",
       "2001-05-07  43783.41  54033  0.036621  86.036896   97816.41   97816.575003   \n",
       "\n",
       "                Asset_bs       vol  drift_capm  drift_mean  \n",
       "date                                                        \n",
       "2001-05-01  98699.677485  0.365645    0.047222    0.047222  \n",
       "2001-05-02  97195.968507  0.366092    0.047589    0.047589  \n",
       "2001-05-03  95538.661404  0.367665    0.047039    0.047039  \n",
       "2001-05-04  96411.232090  0.368180    0.047130    0.047130  \n",
       "2001-05-07  95362.761683  0.368769    0.045567    0.045567  "
      ]
     },
     "execution_count": 512,
     "metadata": {},
     "output_type": "execute_result"
    }
   ],
   "source": [
    "# might take a while\n",
    "asset_bs = data['rf'].rolling(60).apply(asset_iterative_solver)\n",
    "vol =  data['rf'].rolling(60).apply(vol_iterative_solver)\n",
    "data['Asset_bs'] = asset_bs\n",
    "data['vol'] = vol\n",
    "res = data.loc[pd.Timestamp('2001-05-01'):]\n",
    "res.head()"
   ]
  },
  {
   "cell_type": "code",
   "execution_count": 513,
   "metadata": {},
   "outputs": [
    {
     "data": {
      "text/plain": [
       "<AxesSubplot:xlabel='date'>"
      ]
     },
     "execution_count": 513,
     "metadata": {},
     "output_type": "execute_result"
    },
    {
     "data": {
      "image/png": "[encoded data removed]",
      "text/plain": [
       "<Figure size 432x288 with 1 Axes>"
      ]
     },
     "metadata": {
      "needs_background": "light"
     },
     "output_type": "display_data"
    }
   ],
   "source": [
    "res[['mktcap','debt','Asset_k','Asset_bs']].plot()"
   ]
  },
  {
   "cell_type": "code",
   "execution_count": 514,
   "metadata": {},
   "outputs": [
    {
     "data": {
      "text/plain": [
       "<AxesSubplot:xlabel='date'>"
      ]
     },
     "execution_count": 514,
     "metadata": {},
     "output_type": "execute_result"
    },
    {
     "data": {
      "image/png": "[encoded data removed]",
      "text/plain": [
       "<Figure size 432x288 with 1 Axes>"
      ]
     },
     "metadata": {
      "needs_background": "light"
     },
     "output_type": "display_data"
    }
   ],
   "source": [
    "res['vol'].plot()"
   ]
  },
  {
   "cell_type": "markdown",
   "metadata": {},
   "source": [
    "## 2. Asset Drift"
   ]
  },
  {
   "cell_type": "markdown",
   "metadata": {},
   "source": [
    "### 2.1 Estimate drift\n",
    "\n",
    "1)Estimate daily series of the drift, (i.e.) expectation of asset growth by using CAPM \n",
    "- Use CAPM and choose SP500 as a proxy for market portfolio (you can get SP500 data from Yahoo Finance or Google Finance)\n",
    "- Use simple average of asset growth for past 6 months\n",
    "\n",
    "Note. If CAPM drift / simple average of growth are found to be lower than riskfree rates, you can use drift as riskfree rate + xx% to ensure asset growth rate larger than riskfree rate "
   ]
  },
  {
   "cell_type": "code",
   "execution_count": 515,
   "metadata": {},
   "outputs": [],
   "source": [
    "def drift_CAPM_solver(window):\n",
    "    data_ = data.loc[window.index]\n",
    "    it_count = 0\n",
    "    while np.std(data_['Asset_k']-data_['Asset_k1'])>1e-10:\n",
    "        data_['Asset_k'] = data_['Asset_k1']\n",
    "        asset_ret = np.log(data_['Asset_k']/data_['Asset_k'].shift())\n",
    "        vol = asset_ret.std()*np.sqrt(250)\n",
    "        # print(vol)\n",
    "        def f(x):\n",
    "            S, K, sig, t, r, d, eq = x[4], x[1], vol, 1, x[2], 0, x[0]\n",
    "            res = Reranged_BS(S, K, sig, t, r, d, eq)\n",
    "            return res.A\n",
    "        data_['Asset_k1'] = data_.apply(f,axis=1)\n",
    "        it_count += 1\n",
    "        if it_count > 1000:\n",
    "            print('max iteration reached!')\n",
    "            break\n",
    "    # CAPM\n",
    "    A = data_['Asset_k'].values\n",
    "    rf = data_['rf'].values[1:]/250\n",
    "    y = (A[1:]/A[:-1]) - 1 - rf\n",
    "    idx = data_['sp_idx'].values\n",
    "    x = idx[1:]/idx[:-1] - 1 - rf\n",
    "    x = sm.add_constant(x)\n",
    "    model = sm.OLS(y,x)\n",
    "    results = model.fit()\n",
    "    beta = results.params[1]\n",
    "    drift = (rf[-1] + beta * np.mean(asset_ret))*250\n",
    "    # print(beta,drift,rf[-1]*250)\n",
    "    if drift < rf[-1]*250:\n",
    "        drift = (rf[-1]*250 + 0.01)\n",
    "    return np.log(1 + drift)"
   ]
  },
  {
   "cell_type": "code",
   "execution_count": 516,
   "metadata": {},
   "outputs": [],
   "source": [
    "def drift_mean_solver(window):\n",
    "    data_ = data.loc[window.index]\n",
    "    it_count = 0\n",
    "    while np.std(data_['Asset_k']-data_['Asset_k1'])>1e-10:\n",
    "        data_['Asset_k'] = data_['Asset_k1']\n",
    "        asset_ret = np.log(data_['Asset_k']/data_['Asset_k'].shift())\n",
    "        vol = asset_ret.std()*np.sqrt(250)\n",
    "        # print(vol)\n",
    "        def f(x):\n",
    "            S, K, sig, t, r, d, eq = x[4], x[1], vol, 1, x[2], 0, x[0]\n",
    "            res = Reranged_BS(S, K, sig, t, r, d, eq)\n",
    "            return res.A\n",
    "        data_['Asset_k1'] = data_.apply(f,axis=1)\n",
    "        it_count += 1\n",
    "        if it_count > 1000:\n",
    "            print('max iteration reached!')\n",
    "            break\n",
    "    drift = np.mean(asset_ret)*250\n",
    "    rf = data_['rf'].values[1:]\n",
    "    if drift < rf[-1]:\n",
    "        drift = (rf[-1] + 0.01)\n",
    "    return np.log(1 + drift)"
   ]
  },
  {
   "cell_type": "code",
   "execution_count": 517,
   "metadata": {},
   "outputs": [
    {
     "data": {
      "text/html": [
       "<div>\n",
       "<style scoped>\n",
       "    .dataframe tbody tr th:only-of-type {\n",
       "        vertical-align: middle;\n",
       "    }\n",
       "\n",
       "    .dataframe tbody tr th {\n",
       "        vertical-align: top;\n",
       "    }\n",
       "\n",
       "    .dataframe thead th {\n",
       "        text-align: right;\n",
       "    }\n",
       "</style>\n",
       "<table border=\"1\" class=\"dataframe\">\n",
       "  <thead>\n",
       "    <tr style=\"text-align: right;\">\n",
       "      <th></th>\n",
       "      <th>mktcap</th>\n",
       "      <th>debt</th>\n",
       "      <th>rf</th>\n",
       "      <th>sp_idx</th>\n",
       "      <th>Asset_k</th>\n",
       "      <th>Asset_k1</th>\n",
       "      <th>Asset_bs</th>\n",
       "      <th>vol</th>\n",
       "      <th>drift_capm</th>\n",
       "      <th>drift_mean</th>\n",
       "    </tr>\n",
       "    <tr>\n",
       "      <th>date</th>\n",
       "      <th></th>\n",
       "      <th></th>\n",
       "      <th></th>\n",
       "      <th></th>\n",
       "      <th></th>\n",
       "      <th></th>\n",
       "      <th></th>\n",
       "      <th></th>\n",
       "      <th></th>\n",
       "      <th></th>\n",
       "    </tr>\n",
       "  </thead>\n",
       "  <tbody>\n",
       "    <tr>\n",
       "      <th>2001-05-01</th>\n",
       "      <td>47080.00</td>\n",
       "      <td>54033</td>\n",
       "      <td>0.038355</td>\n",
       "      <td>86.588928</td>\n",
       "      <td>101113.00</td>\n",
       "      <td>101113.033523</td>\n",
       "      <td>98699.677485</td>\n",
       "      <td>0.365645</td>\n",
       "      <td>0.047222</td>\n",
       "      <td>0.047222</td>\n",
       "    </tr>\n",
       "    <tr>\n",
       "      <th>2001-05-02</th>\n",
       "      <td>45639.19</td>\n",
       "      <td>54033</td>\n",
       "      <td>0.038740</td>\n",
       "      <td>86.432205</td>\n",
       "      <td>99672.19</td>\n",
       "      <td>99672.346487</td>\n",
       "      <td>97195.968507</td>\n",
       "      <td>0.366092</td>\n",
       "      <td>0.047589</td>\n",
       "      <td>0.047589</td>\n",
       "    </tr>\n",
       "    <tr>\n",
       "      <th>2001-05-03</th>\n",
       "      <td>44017.29</td>\n",
       "      <td>54033</td>\n",
       "      <td>0.038162</td>\n",
       "      <td>85.334885</td>\n",
       "      <td>98050.29</td>\n",
       "      <td>98051.140133</td>\n",
       "      <td>95538.661404</td>\n",
       "      <td>0.367665</td>\n",
       "      <td>0.047039</td>\n",
       "      <td>0.047039</td>\n",
       "    </tr>\n",
       "    <tr>\n",
       "      <th>2001-05-04</th>\n",
       "      <td>44869.71</td>\n",
       "      <td>54033</td>\n",
       "      <td>0.038259</td>\n",
       "      <td>86.786575</td>\n",
       "      <td>98902.71</td>\n",
       "      <td>98902.743665</td>\n",
       "      <td>96411.232090</td>\n",
       "      <td>0.368180</td>\n",
       "      <td>0.047130</td>\n",
       "      <td>0.047130</td>\n",
       "    </tr>\n",
       "    <tr>\n",
       "      <th>2001-05-07</th>\n",
       "      <td>43783.41</td>\n",
       "      <td>54033</td>\n",
       "      <td>0.036621</td>\n",
       "      <td>86.036896</td>\n",
       "      <td>97816.41</td>\n",
       "      <td>97816.575003</td>\n",
       "      <td>95362.761683</td>\n",
       "      <td>0.368769</td>\n",
       "      <td>0.045567</td>\n",
       "      <td>0.045567</td>\n",
       "    </tr>\n",
       "  </tbody>\n",
       "</table>\n",
       "</div>"
      ],
      "text/plain": [
       "              mktcap   debt        rf     sp_idx    Asset_k       Asset_k1  \\\n",
       "date                                                                         \n",
       "2001-05-01  47080.00  54033  0.038355  86.588928  101113.00  101113.033523   \n",
       "2001-05-02  45639.19  54033  0.038740  86.432205   99672.19   99672.346487   \n",
       "2001-05-03  44017.29  54033  0.038162  85.334885   98050.29   98051.140133   \n",
       "2001-05-04  44869.71  54033  0.038259  86.786575   98902.71   98902.743665   \n",
       "2001-05-07  43783.41  54033  0.036621  86.036896   97816.41   97816.575003   \n",
       "\n",
       "                Asset_bs       vol  drift_capm  drift_mean  \n",
       "date                                                        \n",
       "2001-05-01  98699.677485  0.365645    0.047222    0.047222  \n",
       "2001-05-02  97195.968507  0.366092    0.047589    0.047589  \n",
       "2001-05-03  95538.661404  0.367665    0.047039    0.047039  \n",
       "2001-05-04  96411.232090  0.368180    0.047130    0.047130  \n",
       "2001-05-07  95362.761683  0.368769    0.045567    0.045567  "
      ]
     },
     "execution_count": 517,
     "metadata": {},
     "output_type": "execute_result"
    }
   ],
   "source": [
    "# might take a while\n",
    "data['drift_capm'] = data['rf'].rolling(60).apply(drift_CAPM_solver)\n",
    "data['drift_mean'] =  data['rf'].rolling(60).apply(drift_mean_solver)\n",
    "res = data.loc[pd.Timestamp('2001-05-01'):]\n",
    "res.head()"
   ]
  },
  {
   "cell_type": "code",
   "execution_count": 518,
   "metadata": {},
   "outputs": [
    {
     "data": {
      "text/plain": [
       "<AxesSubplot:xlabel='date'>"
      ]
     },
     "execution_count": 518,
     "metadata": {},
     "output_type": "execute_result"
    },
    {
     "data": {
      "image/png": "[encoded data removed]",
      "text/plain": [
       "<Figure size 432x288 with 1 Axes>"
      ]
     },
     "metadata": {
      "needs_background": "light"
     },
     "output_type": "display_data"
    }
   ],
   "source": [
    "res[['rf','drift_capm','drift_mean']].plot()"
   ]
  },
  {
   "cell_type": "markdown",
   "metadata": {},
   "source": [
    "### 2.2 DD\n",
    "2)Calculate DDs using the values from 1) based on each method"
   ]
  },
  {
   "cell_type": "code",
   "execution_count": 534,
   "metadata": {},
   "outputs": [],
   "source": [
    "def DD(S, K, sig, t, mu, d):\n",
    "    d1 = (math.log(S / K) + (mu - d + sig**2 / 2) * t) / (sig * math.sqrt(t))\n",
    "    d2 = d1 - sig * math.sqrt(t)\n",
    "    return d2"
   ]
  },
  {
   "cell_type": "code",
   "execution_count": 536,
   "metadata": {},
   "outputs": [
    {
     "name": "stderr",
     "output_type": "stream",
     "text": [
      "/home/clarence/anaconda3/lib/python3.7/site-packages/ipykernel_launcher.py:4: SettingWithCopyWarning: \n",
      "A value is trying to be set on a copy of a slice from a DataFrame.\n",
      "Try using .loc[row_indexer,col_indexer] = value instead\n",
      "\n",
      "See the caveats in the documentation: https://pandas.pydata.org/pandas-docs/stable/user_guide/indexing.html#returning-a-view-versus-a-copy\n",
      "  after removing the cwd from sys.path.\n",
      "/home/clarence/anaconda3/lib/python3.7/site-packages/ipykernel_launcher.py:5: SettingWithCopyWarning: \n",
      "A value is trying to be set on a copy of a slice from a DataFrame.\n",
      "Try using .loc[row_indexer,col_indexer] = value instead\n",
      "\n",
      "See the caveats in the documentation: https://pandas.pydata.org/pandas-docs/stable/user_guide/indexing.html#returning-a-view-versus-a-copy\n",
      "  \"\"\"\n",
      "/home/clarence/anaconda3/lib/python3.7/site-packages/ipykernel_launcher.py:6: SettingWithCopyWarning: \n",
      "A value is trying to be set on a copy of a slice from a DataFrame.\n",
      "Try using .loc[row_indexer,col_indexer] = value instead\n",
      "\n",
      "See the caveats in the documentation: https://pandas.pydata.org/pandas-docs/stable/user_guide/indexing.html#returning-a-view-versus-a-copy\n",
      "  \n"
     ]
    },
    {
     "data": {
      "text/html": [
       "<div>\n",
       "<style scoped>\n",
       "    .dataframe tbody tr th:only-of-type {\n",
       "        vertical-align: middle;\n",
       "    }\n",
       "\n",
       "    .dataframe tbody tr th {\n",
       "        vertical-align: top;\n",
       "    }\n",
       "\n",
       "    .dataframe thead th {\n",
       "        text-align: right;\n",
       "    }\n",
       "</style>\n",
       "<table border=\"1\" class=\"dataframe\">\n",
       "  <thead>\n",
       "    <tr style=\"text-align: right;\">\n",
       "      <th></th>\n",
       "      <th>mktcap</th>\n",
       "      <th>debt</th>\n",
       "      <th>rf</th>\n",
       "      <th>sp_idx</th>\n",
       "      <th>Asset_k</th>\n",
       "      <th>Asset_k1</th>\n",
       "      <th>Asset_bs</th>\n",
       "      <th>vol</th>\n",
       "      <th>drift_capm</th>\n",
       "      <th>drift_mean</th>\n",
       "      <th>dd_capm</th>\n",
       "      <th>dd_mean</th>\n",
       "      <th>dd_rf</th>\n",
       "    </tr>\n",
       "    <tr>\n",
       "      <th>date</th>\n",
       "      <th></th>\n",
       "      <th></th>\n",
       "      <th></th>\n",
       "      <th></th>\n",
       "      <th></th>\n",
       "      <th></th>\n",
       "      <th></th>\n",
       "      <th></th>\n",
       "      <th></th>\n",
       "      <th></th>\n",
       "      <th></th>\n",
       "      <th></th>\n",
       "      <th></th>\n",
       "    </tr>\n",
       "  </thead>\n",
       "  <tbody>\n",
       "    <tr>\n",
       "      <th>2001-05-01</th>\n",
       "      <td>47080.00</td>\n",
       "      <td>54033</td>\n",
       "      <td>0.038355</td>\n",
       "      <td>86.588928</td>\n",
       "      <td>101113.00</td>\n",
       "      <td>101113.033523</td>\n",
       "      <td>98699.677485</td>\n",
       "      <td>0.365645</td>\n",
       "      <td>0.047222</td>\n",
       "      <td>0.047222</td>\n",
       "      <td>1.594062</td>\n",
       "      <td>1.594062</td>\n",
       "      <td>1.567850</td>\n",
       "    </tr>\n",
       "    <tr>\n",
       "      <th>2001-05-02</th>\n",
       "      <td>45639.19</td>\n",
       "      <td>54033</td>\n",
       "      <td>0.038740</td>\n",
       "      <td>86.432205</td>\n",
       "      <td>99672.19</td>\n",
       "      <td>99672.346487</td>\n",
       "      <td>97195.968507</td>\n",
       "      <td>0.366092</td>\n",
       "      <td>0.047589</td>\n",
       "      <td>0.047589</td>\n",
       "      <td>1.550734</td>\n",
       "      <td>1.550734</td>\n",
       "      <td>1.524563</td>\n",
       "    </tr>\n",
       "    <tr>\n",
       "      <th>2001-05-03</th>\n",
       "      <td>44017.29</td>\n",
       "      <td>54033</td>\n",
       "      <td>0.038162</td>\n",
       "      <td>85.334885</td>\n",
       "      <td>98050.29</td>\n",
       "      <td>98051.140133</td>\n",
       "      <td>95538.661404</td>\n",
       "      <td>0.367665</td>\n",
       "      <td>0.047039</td>\n",
       "      <td>0.047039</td>\n",
       "      <td>1.494254</td>\n",
       "      <td>1.494254</td>\n",
       "      <td>1.468181</td>\n",
       "    </tr>\n",
       "    <tr>\n",
       "      <th>2001-05-04</th>\n",
       "      <td>44869.71</td>\n",
       "      <td>54033</td>\n",
       "      <td>0.038259</td>\n",
       "      <td>86.786575</td>\n",
       "      <td>98902.71</td>\n",
       "      <td>98902.743665</td>\n",
       "      <td>96411.232090</td>\n",
       "      <td>0.368180</td>\n",
       "      <td>0.047130</td>\n",
       "      <td>0.047130</td>\n",
       "      <td>1.516595</td>\n",
       "      <td>1.516595</td>\n",
       "      <td>1.490561</td>\n",
       "    </tr>\n",
       "    <tr>\n",
       "      <th>2001-05-07</th>\n",
       "      <td>43783.41</td>\n",
       "      <td>54033</td>\n",
       "      <td>0.036621</td>\n",
       "      <td>86.036896</td>\n",
       "      <td>97816.41</td>\n",
       "      <td>97816.575003</td>\n",
       "      <td>95362.761683</td>\n",
       "      <td>0.368769</td>\n",
       "      <td>0.045567</td>\n",
       "      <td>0.045567</td>\n",
       "      <td>1.479692</td>\n",
       "      <td>1.479692</td>\n",
       "      <td>1.453658</td>\n",
       "    </tr>\n",
       "  </tbody>\n",
       "</table>\n",
       "</div>"
      ],
      "text/plain": [
       "              mktcap   debt        rf     sp_idx    Asset_k       Asset_k1  \\\n",
       "date                                                                         \n",
       "2001-05-01  47080.00  54033  0.038355  86.588928  101113.00  101113.033523   \n",
       "2001-05-02  45639.19  54033  0.038740  86.432205   99672.19   99672.346487   \n",
       "2001-05-03  44017.29  54033  0.038162  85.334885   98050.29   98051.140133   \n",
       "2001-05-04  44869.71  54033  0.038259  86.786575   98902.71   98902.743665   \n",
       "2001-05-07  43783.41  54033  0.036621  86.036896   97816.41   97816.575003   \n",
       "\n",
       "                Asset_bs       vol  drift_capm  drift_mean   dd_capm  \\\n",
       "date                                                                   \n",
       "2001-05-01  98699.677485  0.365645    0.047222    0.047222  1.594062   \n",
       "2001-05-02  97195.968507  0.366092    0.047589    0.047589  1.550734   \n",
       "2001-05-03  95538.661404  0.367665    0.047039    0.047039  1.494254   \n",
       "2001-05-04  96411.232090  0.368180    0.047130    0.047130  1.516595   \n",
       "2001-05-07  95362.761683  0.368769    0.045567    0.045567  1.479692   \n",
       "\n",
       "             dd_mean     dd_rf  \n",
       "date                            \n",
       "2001-05-01  1.594062  1.567850  \n",
       "2001-05-02  1.550734  1.524563  \n",
       "2001-05-03  1.494254  1.468181  \n",
       "2001-05-04  1.516595  1.490561  \n",
       "2001-05-07  1.479692  1.453658  "
      ]
     },
     "execution_count": 536,
     "metadata": {},
     "output_type": "execute_result"
    }
   ],
   "source": [
    "dd_capm = lambda x: DD(S=x[6], K=x[1], sig=x[7], t=1, mu=x[8], d=0)\n",
    "dd_mean = lambda x: DD(S=x[6], K=x[1], sig=x[7], t=1, mu=x[9], d=0)\n",
    "dd_rf = lambda x: DD(S=x[6], K=x[1], sig=x[7], t=1, mu=np.log(1+x[2]), d=0)\n",
    "res['dd_capm'] = res.apply(dd_capm,axis=1)\n",
    "res['dd_mean'] = res.apply(dd_mean,axis=1)\n",
    "res['dd_rf'] = res.apply(dd_rf,axis=1)\n",
    "res.head()"
   ]
  },
  {
   "cell_type": "markdown",
   "metadata": {},
   "source": [
    "### 2.3 PD\n",
    "\n",
    "3)Calculate default probabilities (you can use inverse of cumulative normal distribution) based on CAPM drift, simple average, and riskfree rate and compare each DP"
   ]
  },
  {
   "cell_type": "code",
   "execution_count": 555,
   "metadata": {},
   "outputs": [
    {
     "data": {
      "text/html": [
       "<div>\n",
       "<style scoped>\n",
       "    .dataframe tbody tr th:only-of-type {\n",
       "        vertical-align: middle;\n",
       "    }\n",
       "\n",
       "    .dataframe tbody tr th {\n",
       "        vertical-align: top;\n",
       "    }\n",
       "\n",
       "    .dataframe thead th {\n",
       "        text-align: right;\n",
       "    }\n",
       "</style>\n",
       "<table border=\"1\" class=\"dataframe\">\n",
       "  <thead>\n",
       "    <tr style=\"text-align: right;\">\n",
       "      <th></th>\n",
       "      <th>pd_capm</th>\n",
       "      <th>pd_mean</th>\n",
       "      <th>pd_rf</th>\n",
       "    </tr>\n",
       "    <tr>\n",
       "      <th>date</th>\n",
       "      <th></th>\n",
       "      <th></th>\n",
       "      <th></th>\n",
       "    </tr>\n",
       "  </thead>\n",
       "  <tbody>\n",
       "    <tr>\n",
       "      <th>2001-05-01</th>\n",
       "      <td>0.055461</td>\n",
       "      <td>0.055461</td>\n",
       "      <td>0.058458</td>\n",
       "    </tr>\n",
       "    <tr>\n",
       "      <th>2001-05-02</th>\n",
       "      <td>0.060483</td>\n",
       "      <td>0.060483</td>\n",
       "      <td>0.063684</td>\n",
       "    </tr>\n",
       "    <tr>\n",
       "      <th>2001-05-03</th>\n",
       "      <td>0.067555</td>\n",
       "      <td>0.067555</td>\n",
       "      <td>0.071028</td>\n",
       "    </tr>\n",
       "    <tr>\n",
       "      <th>2001-05-04</th>\n",
       "      <td>0.064684</td>\n",
       "      <td>0.064684</td>\n",
       "      <td>0.068038</td>\n",
       "    </tr>\n",
       "    <tr>\n",
       "      <th>2001-05-07</th>\n",
       "      <td>0.069478</td>\n",
       "      <td>0.069478</td>\n",
       "      <td>0.073021</td>\n",
       "    </tr>\n",
       "  </tbody>\n",
       "</table>\n",
       "</div>"
      ],
      "text/plain": [
       "             pd_capm   pd_mean     pd_rf\n",
       "date                                    \n",
       "2001-05-01  0.055461  0.055461  0.058458\n",
       "2001-05-02  0.060483  0.060483  0.063684\n",
       "2001-05-03  0.067555  0.067555  0.071028\n",
       "2001-05-04  0.064684  0.064684  0.068038\n",
       "2001-05-07  0.069478  0.069478  0.073021"
      ]
     },
     "execution_count": 555,
     "metadata": {},
     "output_type": "execute_result"
    }
   ],
   "source": [
    "PD = (-res[['dd_capm','dd_mean','dd_rf']]).applymap(norm.cdf)\n",
    "PD.columns = ['pd_capm','pd_mean','pd_rf']\n",
    "PD.head()"
   ]
  },
  {
   "cell_type": "code",
   "execution_count": 556,
   "metadata": {},
   "outputs": [
    {
     "data": {
      "text/plain": [
       "<AxesSubplot:xlabel='date'>"
      ]
     },
     "execution_count": 556,
     "metadata": {},
     "output_type": "execute_result"
    },
    {
     "data": {
      "image/png": "[encoded data removed]",
      "text/plain": [
       "<Figure size 432x288 with 1 Axes>"
      ]
     },
     "metadata": {
      "needs_background": "light"
     },
     "output_type": "display_data"
    }
   ],
   "source": [
    "PD.plot()"
   ]
  }
 ],
 "metadata": {
  "kernelspec": {
   "display_name": "Python 3",
   "language": "python",
   "name": "python3"
  },
  "language_info": {
   "codemirror_mode": {
    "name": "ipython",
    "version": 3
   },
   "file_extension": ".py",
   "mimetype": "text/x-python",
   "name": "python",
   "nbconvert_exporter": "python",
   "pygments_lexer": "ipython3",
   "version": "3.7.4"
  },
  "toc": {
   "base_numbering": 1,
   "nav_menu": {},
   "number_sections": false,
   "sideBar": true,
   "skip_h1_title": false,
   "title_cell": "Table of Contents",
   "title_sidebar": "Contents",
   "toc_cell": false,
   "toc_position": {
    "height": "530.4px",
    "left": "26px",
    "top": "138.8px",
    "width": "307.2px"
   },
   "toc_section_display": true,
   "toc_window_display": true
  }
 },
 "nbformat": 4,
 "nbformat_minor": 4
}
